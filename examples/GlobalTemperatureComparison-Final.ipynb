{
 "cells": [
  {
   "cell_type": "markdown",
   "metadata": {},
   "source": [
    "# Comparison of Average Global Temperature\n",
    "\n",
    "Todd Schultz, Rahul Birmiwal, Abhishek Anand\n",
    "\n",
    "\n",
    "## Table of Contents\n",
    "1. Introduction\n",
    "2. Data Retrieval\n",
    "3. Comparison and Contrasts\n",
    "4. Augmenting of Carbon Dioxide Data\n",
    "\n",
    "\n",
    "\n",
    "\n",
    "\n",
    "\n",
    "\n",
    "## I. Introduction\n",
    "#### Problem Statement\n",
    "\n",
    "Climate change, fundamentally, is defined by historical changes in statistical properties of a climate system(s). It is well known that canonical/generalized scientific work pertinent to climate change often utilizes sample mean/sample variance (spread) of historical global temperatures. Akin to the hotly debated global warming topics of today -- \"is the Earth abnormally warming? cooling? in a normal hot/cold cycle? -- studies in climate change cover a broader spectrum of scientific inquiry. Scientists in this field will perhaps wish to _predict_ future temperatures, uncover _anomalies_ in climate time-series data, etc. Furthermore the study of global climate(s) is of paramount importance to a host of industries -- aviation, agriculture, and biology amongst them. \n",
    "\n",
    "Perhaps a more esoteric offshoot in the study of climate change is ascertaining the efficacy of the data sources _themselves_. Without a doubt (and without voicing opinions), the potential negative ramifications of (a hypothetically) abnormally warming earth, i.e. on biological ecosystems, on food production, on water levels, and the inevitable sociopolitical outcry against such manifestations of 'anti-climate/environmentalism', threaten industries, countries, etc. built upon antagonistic actors -- the oil industry, fossil-fuel exporting nations, etc. Although a pessimistic viewpoint, it is realistic, therefore, to think that not all climate data is treated equally. \n",
    "\n",
    "Perhaps data from a factbook database, such as the WorldBank, is \"centrist\"; perhaps that from NOAA (National Oceanic and Atmospheric Administration), or BerkeleyEarth given their sources of funding as bastions of progressive change, are biased towards data evincing global warming; or perhaps data from China, Russia, the Middle East, whose economies wholly depend on the prolonged sustenance of oil, tend towards conservative climate estimates? \n",
    "\n",
    "In essence, many governments and organizations provide estimates of the average global temperatures, but who watches over them? Citizen scientists and analytists routinely attempt to reproduce and verify the results and have the technical training and education to understand and even improve climate estimates. However, many don't have computer training or time to collect and corrolate data provided by the various sources with uniquely and different interfaces. Given proper tools to ease the data access task, a layperson scientist can keep tabs on the watchers.\n",
    "\n",
    "This report uses the Python programming language, its associated libraries, exhaustive documentation, and various data sources as exemplary of the broader class of climate literature , to allow this layperson reader familiar with basic programming and climatee study to: \n",
    "1. Reproduce our compare/contrast climate data analyses from various data sources \n",
    "2. Extend the analysis of climate estimates to one's own areas of interest, or one's own (different) data sources\n",
    "3. Question the efficacy of climate data \n",
    "\n",
    "#### Data Sources\n",
    "\n",
    "Insofar, this project has utilized three different data sources of global average temperatures, from:  \n",
    "1. NOAA (https://www.ncdc.noaa.gov/cag/global/time-series)\n",
    "2. BerkeleyEarth (http://berkeleyearth.org)\n",
    "3. The WorldBank (http://data.worldbank.org)\n",
    "\n",
    "#### Functional Format\n",
    "\n",
    "Data retrieval and access is governed through Pythonic 'handler' functions whose signatures are of the form: \n",
    "```python \n",
    "data = grab_agency(kwargs**)\n",
    "```\n",
    "where 'agency' can be 'noaa', 'berkeley', 'worldbank' and kwargs are optional arguments to the respective function (see Documentation for details). I.e.\n",
    "\n",
    "```python\n",
    "data = grab_worldbank(1960,2012)\n",
    "```\n",
    "will return a Pandas dataframe of _(Date, Temperature)_ tuples (see Documentations) obtained using WorldBank data for years 1960-2012. \n",
    "\n",
    "With this in mind, these functions are used to pull data from these various formats, each function outputting data in constant _(Date, Temperature/Temperature Anomaly)_ format. We then perform compare and contrast analysis using said data. \n",
    " \n",
    "\n",
    "#### Aside: Absolute Temperature vs. Temperature Anomalies\n",
    "\n",
    "Please note that the second columns of the aforementions dataframes are in units of 'absolute degrees Celsius' or 'temperature anomaly.' Why is this? \n",
    "\n",
    "In most cases, using 'anomalic' temperature is preferred over absolute estimates, where the temperature anomaly is defined to be the positive or negative departure from a long-term global temperature average. That is, a positive anomaly means the earth was warmer than normal and vice versa. \n",
    "\n",
    "Using temperature anomalies for spatial/temperature data is preferred in the scientific community because, frankly, absolute surface temperature is hard to compile, and posits many 'risks' to normalized measurement -- some regions might have few temperature stations like the Sahara Desert or Arctic; some regions are more mountainous and deviate more from sea level and vice versa, creating bias in their outputted measurements, etc, etc. \n",
    "\n",
    "In this regard, it is difficult to directly compare data in the two different formats, precisely because the definition of refernence/long-term average in the anomaly case is undefined, i.e. we as outsiders do not know how the difference agencies compute the statistic. Moreover the statistic may itself be a moving average. However, if we simply care about the overall 'shape' of the temperature curves, then it _may_ be possible to visualize the two formats on the same graph.\n"
   ]
  },
  {
   "cell_type": "code",
   "execution_count": 1,
   "metadata": {},
   "outputs": [],
   "source": [
    "# Set paths\n",
    "import sys, os\n",
    "sys.path.append(os.path.abspath(os.path.join('..', 'DegreesOfClimateChange')))"
   ]
  },
  {
   "cell_type": "code",
   "execution_count": 2,
   "metadata": {},
   "outputs": [],
   "source": [
    "# Imports\n",
    "from grab_berkeley import grab_berkeley\n",
    "from grab_noaa import grab_noaa\n",
    "from grab_worldbank import grab_worldbank\n",
    "from grab_co2_scripps import grab_scripps_co2_data\n",
    "import math\n",
    "import matplotlib\n",
    "import matplotlib.pyplot as plt\n",
    "import numpy as np\n",
    "import pandas as pd"
   ]
  },
  {
   "cell_type": "code",
   "execution_count": 3,
   "metadata": {},
   "outputs": [],
   "source": [
    "%matplotlib notebook"
   ]
  },
  {
   "cell_type": "markdown",
   "metadata": {},
   "source": [
    "# Data Retrieval\n",
    "As outlined above, we pull the data from our source using the ` grab_ ` functions"
   ]
  },
  {
   "cell_type": "markdown",
   "metadata": {},
   "source": [
    "### From NOAA "
   ]
  },
  {
   "cell_type": "code",
   "execution_count": 4,
   "metadata": {},
   "outputs": [],
   "source": [
    "df_noaa = grab_noaa() #get dataframe of data sorted chronologically "
   ]
  },
  {
   "cell_type": "code",
   "execution_count": 5,
   "metadata": {},
   "outputs": [
    {
     "data": {
      "text/html": [
       "<div>\n",
       "<style scoped>\n",
       "    .dataframe tbody tr th:only-of-type {\n",
       "        vertical-align: middle;\n",
       "    }\n",
       "\n",
       "    .dataframe tbody tr th {\n",
       "        vertical-align: top;\n",
       "    }\n",
       "\n",
       "    .dataframe thead th {\n",
       "        text-align: right;\n",
       "    }\n",
       "</style>\n",
       "<table border=\"1\" class=\"dataframe\">\n",
       "  <thead>\n",
       "    <tr style=\"text-align: right;\">\n",
       "      <th></th>\n",
       "      <th>Date</th>\n",
       "      <th>Tanomaly_C</th>\n",
       "    </tr>\n",
       "  </thead>\n",
       "  <tbody>\n",
       "    <tr>\n",
       "      <th>0</th>\n",
       "      <td>1880-1-01</td>\n",
       "      <td>0.00</td>\n",
       "    </tr>\n",
       "    <tr>\n",
       "      <th>1</th>\n",
       "      <td>1880-2-01</td>\n",
       "      <td>-0.12</td>\n",
       "    </tr>\n",
       "    <tr>\n",
       "      <th>2</th>\n",
       "      <td>1880-3-01</td>\n",
       "      <td>-0.13</td>\n",
       "    </tr>\n",
       "    <tr>\n",
       "      <th>3</th>\n",
       "      <td>1880-4-01</td>\n",
       "      <td>-0.04</td>\n",
       "    </tr>\n",
       "    <tr>\n",
       "      <th>4</th>\n",
       "      <td>1880-5-01</td>\n",
       "      <td>-0.06</td>\n",
       "    </tr>\n",
       "  </tbody>\n",
       "</table>\n",
       "</div>"
      ],
      "text/plain": [
       "        Date  Tanomaly_C\n",
       "0  1880-1-01        0.00\n",
       "1  1880-2-01       -0.12\n",
       "2  1880-3-01       -0.13\n",
       "3  1880-4-01       -0.04\n",
       "4  1880-5-01       -0.06"
      ]
     },
     "execution_count": 5,
     "metadata": {},
     "output_type": "execute_result"
    }
   ],
   "source": [
    "df_noaa.head(5) #view first 5 elements \n"
   ]
  },
  {
   "cell_type": "code",
   "execution_count": 6,
   "metadata": {},
   "outputs": [
    {
     "data": {
      "text/html": [
       "<div>\n",
       "<style scoped>\n",
       "    .dataframe tbody tr th:only-of-type {\n",
       "        vertical-align: middle;\n",
       "    }\n",
       "\n",
       "    .dataframe tbody tr th {\n",
       "        vertical-align: top;\n",
       "    }\n",
       "\n",
       "    .dataframe thead th {\n",
       "        text-align: right;\n",
       "    }\n",
       "</style>\n",
       "<table border=\"1\" class=\"dataframe\">\n",
       "  <thead>\n",
       "    <tr style=\"text-align: right;\">\n",
       "      <th></th>\n",
       "      <th>Date</th>\n",
       "      <th>Tanomaly_C</th>\n",
       "    </tr>\n",
       "  </thead>\n",
       "  <tbody>\n",
       "    <tr>\n",
       "      <th>1655</th>\n",
       "      <td>2017-12-01</td>\n",
       "      <td>0.81</td>\n",
       "    </tr>\n",
       "    <tr>\n",
       "      <th>1656</th>\n",
       "      <td>2018-1-01</td>\n",
       "      <td>0.70</td>\n",
       "    </tr>\n",
       "    <tr>\n",
       "      <th>1657</th>\n",
       "      <td>2018-2-01</td>\n",
       "      <td>0.68</td>\n",
       "    </tr>\n",
       "    <tr>\n",
       "      <th>1658</th>\n",
       "      <td>2018-3-01</td>\n",
       "      <td>0.84</td>\n",
       "    </tr>\n",
       "    <tr>\n",
       "      <th>1659</th>\n",
       "      <td>2018-4-01</td>\n",
       "      <td>0.83</td>\n",
       "    </tr>\n",
       "  </tbody>\n",
       "</table>\n",
       "</div>"
      ],
      "text/plain": [
       "            Date  Tanomaly_C\n",
       "1655  2017-12-01        0.81\n",
       "1656   2018-1-01        0.70\n",
       "1657   2018-2-01        0.68\n",
       "1658   2018-3-01        0.84\n",
       "1659   2018-4-01        0.83"
      ]
     },
     "execution_count": 6,
     "metadata": {},
     "output_type": "execute_result"
    }
   ],
   "source": [
    "df_noaa.tail(5) #view last 5 elements "
   ]
  },
  {
   "cell_type": "markdown",
   "metadata": {},
   "source": [
    "### From World Bank\n",
    "* Note: Depending on starting/ending year (see `grab_worldbank.py` for details), function can take ~2-3 minutes to pull data"
   ]
  },
  {
   "cell_type": "code",
   "execution_count": null,
   "metadata": {},
   "outputs": [],
   "source": [
    "df_wb = grab_worldbank()"
   ]
  },
  {
   "cell_type": "code",
   "execution_count": null,
   "metadata": {},
   "outputs": [],
   "source": [
    "df_wb.head(5)"
   ]
  },
  {
   "cell_type": "markdown",
   "metadata": {},
   "source": [
    "### From BerkeleyEarth"
   ]
  },
  {
   "cell_type": "code",
   "execution_count": null,
   "metadata": {},
   "outputs": [],
   "source": [
    "df_berkeley = grab_berkeley()"
   ]
  },
  {
   "cell_type": "code",
   "execution_count": null,
   "metadata": {},
   "outputs": [],
   "source": [
    "df_berkeley.head(5)"
   ]
  },
  {
   "cell_type": "markdown",
   "metadata": {},
   "source": [
    "## Comparison Figures\n",
    "The figures below show the comparison of the global average temperature estimates for the difference data sources provided in this report. The comparison is shown with multiple figures as a single figure is unable to clearly show all of the features of the comparison between the data sources. The first figure show an individual plot for each of the global average temperature estimates. The range of dates plotted for each estimate are the same to easily show the historical extent of each data source. Here, the estimates from Berkeley extent the fartherest back by over 100 years to the year 1750. Next, the range the temperature estimates are held constant for the two data sources that provide an anomaly or deviation from the mean as the estimate as compared to the World Bank data source that provides an absolute temperature value. This shows that while the Berkeley data source has the most variability, especially in the first 50 years from 1750 to 1800. Overall, all three estimates are showing a general raising tend in the global average temperature over the last century. "
   ]
  },
  {
   "cell_type": "code",
   "execution_count": null,
   "metadata": {},
   "outputs": [],
   "source": [
    "# Prepare data for plotting\n",
    "# NOAA Data\n",
    "tnoaa = pd.to_datetime(df_noaa['Date'])\n",
    "datesnoaa = matplotlib.dates.date2num(tnoaa)\n",
    "\n",
    "# Berkeley Data\n",
    "tberkeley = pd.to_datetime(df_berkeley['Date'])\n",
    "datesberkeley = matplotlib.dates.date2num(tberkeley)\n",
    "\n",
    "# World Bank Data\n",
    "twb = pd.to_datetime(df_wb['Date'])\n",
    "dateswb = matplotlib.dates.date2num(twb)\n",
    "\n",
    "# Find plotting limits\n",
    "datemin = min([datesnoaa.min(), datesberkeley.min(), dateswb.min()])\n",
    "datemax = max([datesnoaa.max(), datesberkeley.max(), dateswb.max()])\n",
    "datelims = [datemin, datemax]\n",
    "\n",
    "ymin = math.floor(min([df_noaa[\"Tanomaly_C\"].min(), df_berkeley[\"Tanomaly_C\"].min()]))\n",
    "ymax = math.ceil(max([df_noaa[\"Tanomaly_C\"].max(), df_berkeley[\"Tanomaly_C\"].max()]))\n",
    "yanomalylims = [ymin, ymax]\n",
    "\n",
    "ymin = math.floor(min([df_wb[\"Tabsolute_C\"].min()]))\n",
    "ymax = math.ceil(max([df_wb[\"Tabsolute_C\"].max()]))\n",
    "yabsolutelims = [ymin, ymax]"
   ]
  },
  {
   "cell_type": "code",
   "execution_count": null,
   "metadata": {},
   "outputs": [],
   "source": [
    "# Create comparison plot\n",
    "f = plt.figure(1)\n",
    "\n",
    "ax1 = plt.subplot(3,1,1)\n",
    "plt.plot_date(datesnoaa, df_noaa[\"Tanomaly_C\"], color=\"blue\", linestyle='solid', marker='None')\n",
    "#plt.xlabel(\"Date\")\n",
    "plt.ylabel(\"T_anomaly (deg C)\")\n",
    "plt.xlim(datelims)\n",
    "plt.ylim(yanomalylims)\n",
    "plt.text(0.999*datelims[1], 0.99*yanomalylims[0],'NOAA', verticalalignment='bottom', horizontalalignment='right')\n",
    "\n",
    "ax2 = plt.subplot(3,1,2)\n",
    "plt.plot_date(datesberkeley, df_berkeley[\"Tanomaly_C\"], color=\"blue\", linestyle='solid', marker='None')\n",
    "#plt.xlabel(\"Date\")\n",
    "plt.ylabel(\"T_anomaly (deg C)\")\n",
    "plt.xlim(datelims)\n",
    "plt.ylim(yanomalylims)\n",
    "plt.text(0.999*datelims[1], 0.99*yanomalylims[0],'Berkeley', verticalalignment='bottom', horizontalalignment='right')\n",
    "\n",
    "ax3 = plt.subplot(3,1,3)\n",
    "plt.plot_date(dateswb, df_wb[\"Tabsolute_C\"], color=\"blue\", linestyle='solid', marker='None')\n",
    "plt.xlabel(\"Date\")\n",
    "plt.ylabel(\"T_absolute (deg C)\")\n",
    "plt.xlim(datelims)\n",
    "plt.ylim(yabsolutelims)\n",
    "plt.text(0.999*datelims[1], 1.005*yabsolutelims[0],'World Bank', verticalalignment='bottom', horizontalalignment='right');\n"
   ]
  },
  {
   "cell_type": "code",
   "execution_count": null,
   "metadata": {},
   "outputs": [],
   "source": [
    "# Create comparison graph\n",
    "fig, ax1 = plt.subplots()\n",
    "\n",
    "color1 = 'tab:blue'\n",
    "ax1.set_xlabel('Date')\n",
    "ax1.set_ylabel('T_anomaly (deg C)', color=color1)\n",
    "ax1.plot_date(datesnoaa, df_noaa[\"Tanomaly_C\"], color=color1, linestyle='solid', marker='None')\n",
    "ax1.plot_date(datesberkeley, df_berkeley[\"Tanomaly_C\"], color='green', alpha = 0.5, linestyle='dashed', marker='None')\n",
    "ax1.tick_params(axis='y', labelcolor=color1)\n",
    "\n",
    "ax2 = ax1.twinx()  # second axes that shares the same x-axis\n",
    "\n",
    "color2 = 'tab:red'\n",
    "ax2.set_ylabel('T_absolute (deg C)', color=color2)\n",
    "ax2.plot_date(dateswb, df_wb[\"Tabsolute_C\"], color=color2, linestyle='solid', marker='None')\n",
    "ax2.tick_params(axis='y', labelcolor=color2)\n",
    "\n",
    "fig.tight_layout()  # otherwise the right y-label is slightly clipped\n",
    "plt.show()"
   ]
  },
  {
   "cell_type": "markdown",
   "metadata": {},
   "source": [
    "We now attempt to combine the two data formats, anomaly and absolute, onto the same graph using the mean global average temperature from 1901-2012 as the reference. This can be achieved by simply taking the 'anomalic' value and adding it to the reference for each year. We do this for the NOAA and BerkeleyEarth datasets now: \n",
    "\n",
    "Note: to make the plot more meaningful, we will need to compute yearly averages for the NOAA, Berkeley data as they are originally on per-month basis. We first show the latter below, then proceed onto the plotting"
   ]
  },
  {
   "cell_type": "code",
   "execution_count": null,
   "metadata": {},
   "outputs": [],
   "source": [
    "yearly_noaa = df_noaa.groupby(df_noaa['Date'].map(lambda x: pd.to_datetime(x).year)).mean()\n",
    "yearly_noaa = yearly_noaa.reset_index()\n",
    "yearly_noaa['Date'] = yearly_noaa['Date'].astype(str) + '-01-01' #reset Date to proper format\n",
    "yearly_noaa.head()"
   ]
  },
  {
   "cell_type": "code",
   "execution_count": null,
   "metadata": {},
   "outputs": [],
   "source": [
    "yearly_ber = df_berkeley.groupby(df_berkeley['Date'].map(lambda x: pd.to_datetime(x).year)).mean()\n",
    "yearly_ber = yearly_ber.reset_index()\n",
    "yearly_ber['Date'] = yearly_ber['Date'].astype(str) + '-01-01' #reset Date to proper format\n",
    "yearly_ber.head()"
   ]
  },
  {
   "cell_type": "code",
   "execution_count": null,
   "metadata": {
    "scrolled": false
   },
   "outputs": [],
   "source": [
    "BASELINE_TEMP = np.mean( df_wb['Tabsolute_C'])\n",
    "print(\"--BASELINE TEMP IS \", BASELINE_TEMP)\n",
    "\n",
    "noaa_2_absolute = list(map(lambda x: x + BASELINE_TEMP, yearly_noaa['Tanomaly_C']))\n",
    "print(\"--NOAA CONVERTED: \",  noaa_2_absolute[0:8])\n",
    "\n",
    "berkeley_2_absolute = list(map(lambda x: x + BASELINE_TEMP, yearly_ber['Tanomaly_C']))\n",
    "print(\"--Berkeley CONVERTED: \",  berkeley_2_absolute[0:8])\n",
    "\n",
    "# Get new yearly dates \n",
    "dates_yearly_noaa = matplotlib.dates.date2num(pd.to_datetime(yearly_noaa['Date']))\n",
    "dates_yearly_ber = matplotlib.dates.date2num(pd.to_datetime(yearly_ber['Date']))\n",
    "\n",
    "# Now redo the plot: \n",
    "fig, ax1 = plt.subplots()\n",
    "\n",
    "color1 = 'tab:blue'\n",
    "color2 = 'tab:red'\n",
    "ax1.set_xlabel('Date')\n",
    "ax1.set_ylabel('Absolute Global Avg. Temp (deg C)', color=color1)\n",
    "ax1.plot_date(dates_yearly_noaa, noaa_2_absolute, color=color1, linestyle='solid', alpha = 0.8, marker='None')\n",
    "ax1.plot_date(dates_yearly_ber, berkeley_2_absolute, color='green', alpha = 0.5, linestyle='dashed', marker='None')\n",
    "ax1.plot_date(dateswb, df_wb[\"Tabsolute_C\"], color=color2, linestyle='solid', alpha = 0.7, marker='None')\n",
    "ax1.tick_params(axis='y', labelcolor=color1)\n",
    "\n",
    "\n",
    "fig.tight_layout()  # otherwise the right y-label is slightly clipped\n",
    "plt.show()\n"
   ]
  },
  {
   "cell_type": "markdown",
   "metadata": {},
   "source": [
    "### Analysis of Comparison Plots \n",
    "\n",
    "Some ideas **blah blah blah**\n",
    "* If we zoom in on the shared region in the 3rd plot (1901-2012) we can see that the gradient of BerkeleyEarth's data (i.e the rate of increase in the temperature graph year-over-year) exceeds that of NOAA, which exceeds that of the Worldbank. \n",
    "**HMMMMMMMMM ^^^^^^^^^^^^ IT SMELLS LIKE A PROGRESSIVE BIAS** \n",
    "* Along that train of thought, ALTHOUGH BerkeleyEarth claims to be wholly independent in its opinions re: global warming, going to BerkeleyEarth social media i.e. their Twitter feed, https://twitter.com/BerkeleyEarth/with_replies?lang=en reeks of retweets and posts biased towards the progressive, and highly-environmentalist stance!!! \n",
    "* Thus it wouldn't be all that surprising that their data perhaps, maybe....in the way it was collected or sampled, etc. etc. produced a temperature gradient faster than the other \"centrist\" data sources of NOAA and the worldbank"
   ]
  },
  {
   "cell_type": "markdown",
   "metadata": {},
   "source": [
    "## 4. Augmentation of Carbon Dioxide Data\n",
    "\n",
    "It is well known that CO2 and other greenhouse gas emissions, with the advent of increased worldwide industrialization, have impacted climate statistics in recent decades. Here we seek to see any particular visual correlations between CO2 data, and the aforementioned global average temperature datasets. \n",
    "\n",
    "To do so, we retrieve carbon dioxide (CO2) measurements in\n",
    "parts-per-million (ppm) from various measurement sites sanctioned\n",
    "by Scripps Institute of Oceanography at the University of California, San Diego\n",
    "\n",
    "The Scripps CO2 program was initiated in 1956 by Charles David Keeling,\n",
    "an American scientist whose research measuring CO2 levels at the\n",
    "Moana Loa observatory, Hawaii, is considered the first real 'alert'\n",
    "to the world of the consequences of greenhouse gases and high CO2 levels, and\n",
    "its affects on (detrimental) climate change. \n",
    "\n",
    "This function pulls data from various sampling stations of the Scripps Institute, namely \n",
    "\n",
    "- ALERT, NWT, CANADA\n",
    "- LA JOLLA, CA, USA\n",
    "- CHRISTMAS ISLAND, AUSTRALIA\n",
    "- AMERICAN SAMOA\n",
    "- SOUTH POLE, ANTARCTICA\n",
    "\n",
    "We then overlay the CO2 data on top of the previously descriped visualizations regarding temperatures. \n",
    "\n",
    "Note: We have removed missing data in the computation of yearly averages "
   ]
  },
  {
   "cell_type": "code",
   "execution_count": null,
   "metadata": {},
   "outputs": [],
   "source": [
    "#pull data using the scripps data function handler \n",
    "\n",
    "co2_dataframe = grab_scripps_co2_data()"
   ]
  },
  {
   "cell_type": "code",
   "execution_count": null,
   "metadata": {},
   "outputs": [],
   "source": [
    "co2_dataframe.head(10)"
   ]
  },
  {
   "cell_type": "code",
   "execution_count": null,
   "metadata": {},
   "outputs": [],
   "source": [
    "# get absolute data starting from start of the available CO2 data shown above\n",
    "df_worldbank = grab_worldbank(1957)"
   ]
  },
  {
   "cell_type": "code",
   "execution_count": null,
   "metadata": {},
   "outputs": [],
   "source": [
    "# Get dates to right formatting \n",
    "# we need to compute the intersection of the two date lists:\n",
    "\n",
    "\n",
    "def intersection(lst1, lst2):\n",
    "    lst3 = [value for value in lst1 if value in lst2]\n",
    "    return lst3\n",
    "\n",
    "common_dates = intersection(list(pd.to_datetime(co2_dataframe['Date'])), \n",
    "                                list(pd.to_datetime(df_worldbank['Date']) )\n",
    "                               )\n",
    "# Extract rows in the two dataframes whos date is in common_dates\n",
    "df_worldbank = df_worldbank[pd.to_datetime(df_worldbank['Date']).isin(common_dates)]\n",
    "co2_dataframe = co2_dataframe[pd.to_datetime(co2_dataframe['Date']).isin(common_dates)]\n",
    "\n",
    "# convert to matplotlib required formatting\n",
    "dates  = matplotlib.dates.date2num(common_dates)\n",
    "\n",
    "import matplotlib.pyplot as plt\n",
    "# Create comparison graph\n",
    "fig, ax1 = plt.subplots()\n",
    "\n",
    "color1 = 'tab:blue'\n",
    "ax1.set_xlabel('Date')\n",
    "ax1.set_ylabel('Global Avg. Temperature (deg C)', color=color1)\n",
    "ax1.plot_date(dates, df_worldbank[\"Tabsolute_C\"], color=color1, linestyle='solid', marker='o')\n",
    "ax1.tick_params(axis='y', labelcolor=color1)\n",
    "\n",
    "ax2 = ax1.twinx()  # second axes that shares the same x-axis\n",
    "\n",
    "color2 = 'tab:red'\n",
    "ax2.set_ylabel('CO2 (ppm)', color=color2)\n",
    "ax2.plot_date(dates, co2_dataframe[\"CO2\"], color=color2, linestyle='dashed', marker='.')\n",
    "ax2.tick_params(axis='y', labelcolor=color2)\n",
    "\n",
    "fig.tight_layout()  # otherwise the right y-label is slightly clipped\n",
    "plt.show()\n",
    "\n"
   ]
  },
  {
   "cell_type": "markdown",
   "metadata": {},
   "source": [
    "## Conclusions\n",
    "\n",
    "The purpose of this work is not for the authors to offer final conclusions or a list of future actions. The purpose is to offer a platform for any concerned person to begin their own investigation and to development their own conclusions. To that end, the authors of this work of their sincerest wishes for your success. "
   ]
  },
  {
   "cell_type": "markdown",
   "metadata": {},
   "source": [
    "## References\n",
    "\n",
    "- Zhang, H.-M., B. Huang, J. Lawrimore, M. Menne, Thomas M. Smith, NOAA Global Surface Temperature Dataset (NOAAGlobalTemp), Version 4.0 NOAA Global Surface Temperature Data. NOAA National Centers for Environmental Information. doi:10.7289/V5FN144H.\n",
    "\n",
    "- https://www.stat.washington.edu/peter/statclim/Case%202.html\n",
    "\n",
    "_Required Citations For Scripps Data_: \n",
    "- **II**. Macfarling Meure, C. et al., 2006: Law Dome CO2, CH4 and N2O ice core records extended to 2000 years BP. Geophysical Research Letters, 33.\n",
    "- **III**. C. D. Keeling, S. C. Piper, R. B. Bacastow, M. Wahlen, T. P. Whorf, M. Heimann, and H. A. Meijer, Exchanges of atmospheric CO2 and 13CO2 with the terrestrial biosphere and oceans from 1978 to 2000. I. Global aspects, SIO Reference Series, No. 01-06, Scripps Institution of Oceanography, San Diego, 88 pages, 2001\"\n",
    "\n",
    "\n",
    "\n"
   ]
  },
  {
   "cell_type": "code",
   "execution_count": null,
   "metadata": {},
   "outputs": [],
   "source": []
  }
 ],
 "metadata": {
  "kernelspec": {
   "display_name": "Python 3",
   "language": "python",
   "name": "python3"
  },
  "language_info": {
   "codemirror_mode": {
    "name": "ipython",
    "version": 3
   },
   "file_extension": ".py",
   "mimetype": "text/x-python",
   "name": "python",
   "nbconvert_exporter": "python",
   "pygments_lexer": "ipython3",
   "version": "3.6.5"
  }
 },
 "nbformat": 4,
 "nbformat_minor": 2
}
