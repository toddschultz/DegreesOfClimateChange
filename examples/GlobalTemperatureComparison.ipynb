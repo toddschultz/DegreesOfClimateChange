{
 "cells": [
  {
   "cell_type": "markdown",
   "metadata": {},
   "source": [
    "# Comparison of Average Global Temperature\n",
    "\n",
    "data sources, comparison, conclusions"
   ]
  },
  {
   "cell_type": "code",
   "execution_count": 1,
   "metadata": {},
   "outputs": [],
   "source": [
    "# Imports\n",
    "import matplotlib\n",
    "import pandas as pd"
   ]
  },
  {
   "cell_type": "code",
   "execution_count": 2,
   "metadata": {},
   "outputs": [
    {
     "name": "stdout",
     "output_type": "stream",
     "text": [
      "C:\\Users\\todds\\Documents\\GitHub\\DegreesOfClimateChange\\DegreesOfClimateChange\n"
     ]
    }
   ],
   "source": [
    "cd ..\\DegreesOfClimateChange"
   ]
  },
  {
   "cell_type": "code",
   "execution_count": 3,
   "metadata": {},
   "outputs": [],
   "source": [
    "from grab_noaa import grab_noaa"
   ]
  },
  {
   "cell_type": "code",
   "execution_count": 4,
   "metadata": {},
   "outputs": [
    {
     "name": "stdout",
     "output_type": "stream",
     "text": [
      "C:\\Users\\todds\\Documents\\GitHub\\DegreesOfClimateChange\\examples\n"
     ]
    }
   ],
   "source": [
    "cd ..\\examples"
   ]
  },
  {
   "cell_type": "markdown",
   "metadata": {},
   "source": [
    "## Data sources\n",
    "Blah blah blah"
   ]
  },
  {
   "cell_type": "markdown",
   "metadata": {},
   "source": [
    "### NOAA "
   ]
  },
  {
   "cell_type": "code",
   "execution_count": 5,
   "metadata": {},
   "outputs": [],
   "source": [
    "df_noaa = grab_noaa()"
   ]
  },
  {
   "cell_type": "code",
   "execution_count": 6,
   "metadata": {},
   "outputs": [
    {
     "data": {
      "text/plain": [
       "<bound method NDFrame.head of             Date  Tanomaly_C\n",
       "0      1880-1-01       -0.00\n",
       "1      1880-2-01       -0.12\n",
       "2      1880-3-01       -0.13\n",
       "3      1880-4-01       -0.05\n",
       "4      1880-5-01       -0.07\n",
       "5      1880-6-01       -0.17\n",
       "6      1880-7-01       -0.15\n",
       "7      1880-8-01       -0.08\n",
       "8      1880-9-01       -0.09\n",
       "9     1880-10-01       -0.18\n",
       "10    1880-11-01       -0.26\n",
       "11    1880-12-01       -0.08\n",
       "12     1881-1-01       -0.02\n",
       "13     1881-2-01       -0.03\n",
       "14     1881-3-01        0.03\n",
       "15     1881-4-01        0.07\n",
       "16     1881-5-01        0.02\n",
       "17     1881-6-01       -0.10\n",
       "18     1881-7-01       -0.04\n",
       "19     1881-8-01       -0.05\n",
       "20     1881-9-01       -0.17\n",
       "21    1881-10-01       -0.23\n",
       "22    1881-11-01       -0.22\n",
       "23    1881-12-01       -0.05\n",
       "24     1882-1-01        0.08\n",
       "25     1882-2-01        0.03\n",
       "26     1882-3-01        0.07\n",
       "27     1882-4-01       -0.12\n",
       "28     1882-5-01       -0.15\n",
       "29     1882-6-01       -0.14\n",
       "...          ...         ...\n",
       "1629  2015-10-01        0.99\n",
       "1630  2015-11-01        0.96\n",
       "1631  2015-12-01        1.12\n",
       "1632   2016-1-01        1.05\n",
       "1633   2016-2-01        1.21\n",
       "1634   2016-3-01        1.23\n",
       "1635   2016-4-01        1.08\n",
       "1636   2016-5-01        0.88\n",
       "1637   2016-6-01        0.90\n",
       "1638   2016-7-01        0.87\n",
       "1639   2016-8-01        0.90\n",
       "1640   2016-9-01        0.88\n",
       "1641  2016-10-01        0.73\n",
       "1642  2016-11-01        0.75\n",
       "1643  2016-12-01        0.81\n",
       "1644   2017-1-01        0.91\n",
       "1645   2017-2-01        0.97\n",
       "1646   2017-3-01        1.02\n",
       "1647   2017-4-01        0.89\n",
       "1648   2017-5-01        0.82\n",
       "1649   2017-6-01        0.78\n",
       "1650   2017-7-01        0.83\n",
       "1651   2017-8-01        0.81\n",
       "1652   2017-9-01        0.78\n",
       "1653  2017-10-01        0.73\n",
       "1654  2017-11-01        0.76\n",
       "1655  2017-12-01        0.81\n",
       "1656   2018-1-01        0.70\n",
       "1657   2018-2-01        0.68\n",
       "1658   2018-3-01        0.83\n",
       "\n",
       "[1659 rows x 2 columns]>"
      ]
     },
     "execution_count": 6,
     "metadata": {},
     "output_type": "execute_result"
    }
   ],
   "source": [
    "df_noaa.head"
   ]
  },
  {
   "cell_type": "markdown",
   "metadata": {},
   "source": [
    "## Comparison"
   ]
  },
  {
   "cell_type": "code",
   "execution_count": null,
   "metadata": {},
   "outputs": [],
   "source": []
  },
  {
   "cell_type": "markdown",
   "metadata": {},
   "source": [
    "## Conclusions"
   ]
  },
  {
   "cell_type": "code",
   "execution_count": null,
   "metadata": {},
   "outputs": [],
   "source": []
  },
  {
   "cell_type": "markdown",
   "metadata": {},
   "source": [
    "## References\n",
    "\n",
    "Zhang, H.-M., B. Huang, J. Lawrimore, M. Menne, Thomas M. Smith, NOAA Global Surface Temperature Dataset (NOAAGlobalTemp), Version 4.0 NOAA Global Surface Temperature Data. NOAA National Centers for Environmental Information. doi:10.7289/V5FN144H [access date].\n"
   ]
  }
 ],
 "metadata": {
  "kernelspec": {
   "display_name": "Python 3",
   "language": "python",
   "name": "python3"
  },
  "language_info": {
   "codemirror_mode": {
    "name": "ipython",
    "version": 3
   },
   "file_extension": ".py",
   "mimetype": "text/x-python",
   "name": "python",
   "nbconvert_exporter": "python",
   "pygments_lexer": "ipython3",
   "version": "3.6.5"
  }
 },
 "nbformat": 4,
 "nbformat_minor": 2
}
