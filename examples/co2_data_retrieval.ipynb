{
 "cells": [
  {
   "cell_type": "markdown",
   "metadata": {},
   "source": [
    "# CO2 DATA RETRIEVAL FROM MULTIPLE SOURCES\n",
    "## TABLE OF CONTENTS\n",
    "1. NOAA - Moana Loa\n",
    "2. SCRIPPS: ICECORE Dataset (1600-Present)\n",
    "3. SCRIPPS: Substation Sampling Data from Worldwide Locations\n",
    "\n",
    "_Required Citations_: \n",
    "* **II**. Macfarling Meure, C. et al., 2006: Law Dome CO2, CH4 and N2O ice core records extended to 2000 years BP. Geophysical Research Letters, 33.\n",
    "* **III**. C. D. Keeling, S. C. Piper, R. B. Bacastow, M. Wahlen, T. P. Whorf, M. Heimann, and H. A. Meijer, Exchanges of atmospheric CO2 and 13CO2 with the terrestrial biosphere and oceans from 1978 to 2000. I. Global aspects, SIO Reference Series, No. 01-06, Scripps Institution of Oceanography, San Diego, 88 pages, 2001\"\n",
    "\n"
   ]
  },
  {
   "cell_type": "code",
   "execution_count": 20,
   "metadata": {},
   "outputs": [
    {
     "name": "stdout",
     "output_type": "stream",
     "text": [
      "   Date  Mean_CO2  StdDev\n",
      "0  1959    315.97    0.12\n",
      "1  1960    316.91    0.12\n",
      "2  1961    317.64    0.12\n",
      "3  1962    318.45    0.12\n",
      "4  1963    318.99    0.12\n"
     ]
    },
    {
     "name": "stderr",
     "output_type": "stream",
     "text": [
      "/Users/rahulbirmiwal/miniconda3/lib/python3.6/site-packages/ipykernel_launcher.py:6: ParserWarning: Falling back to the 'python' engine because the 'c' engine does not support regex separators (separators > 1 char and different from '\\s+' are interpreted as regex); you can avoid this warning by specifying engine='python'.\n",
      "  \n"
     ]
    }
   ],
   "source": [
    "import pandas as pd\n",
    "import numpy as np\n",
    "\n",
    "#Retrieving from NOAA: Moana Loa database\n",
    "df_moanaloa = pd.read_csv('ftp://aftp.cmdl.noaa.gov/products/trends/co2/co2_annmean_mlo.txt', \n",
    "                 comment = '#',delimiter='   ', header=None)\n",
    "df_moanaloa = df_moanaloa.rename(index=str, columns={0: \"Date\", 1: \"Mean_CO2\", 2:'StdDev'})\n",
    "print(df_moanaloa.head())\n",
    "\n",
    "\n"
   ]
  },
  {
   "cell_type": "markdown",
   "metadata": {},
   "source": [
    "## CO2 DATA FROM SCRIPPS: ICECORE HISTORICAL DATASET (1600-PRESENT)"
   ]
  },
  {
   "cell_type": "code",
   "execution_count": 21,
   "metadata": {},
   "outputs": [
    {
     "name": "stdout",
     "output_type": "stream",
     "text": [
      "################ DATA FROM SCRIPPS: IceCore DATA 1600-Present #############\n",
      "   Date  Mean_CO2\n",
      "0  1679   275.903\n",
      "1  1680   275.937\n",
      "2  1681   275.972\n",
      "3  1682   276.007\n",
      "4  1683   276.042\n"
     ]
    }
   ],
   "source": [
    "\n",
    "\n",
    "#Retrieving from Scripps ICE-CORE 13CE-present dataset\n",
    "df_icecore = pd.read_csv('http://scrippsco2.ucsd.edu/assets/data/atmospheric/merged_ice_core_mlo_spo/spline_merged_ice_core_yearly.csv',\n",
    "                         comment = '\"',delimiter=',',header=None)\n",
    "df_icecore = df_icecore.rename(index = str, columns={0:'Date',1:\"Mean_CO2\"})\n",
    "print(\"################ DATA FROM SCRIPPS: IceCore DATA 1600-Present #############\")\n",
    "print(df_icecore.head())"
   ]
  },
  {
   "cell_type": "markdown",
   "metadata": {},
   "source": [
    "## CO2 DATA FROM SCRIPPS STATION SAMPLING WORLDWIDE"
   ]
  },
  {
   "cell_type": "code",
   "execution_count": 24,
   "metadata": {},
   "outputs": [
    {
     "name": "stdout",
     "output_type": "stream",
     "text": [
      "####################################################################\n",
      "## FOLLOWING DATA SETS FROM SCRIPPS:STATION DATA FROM WORLDWIDE LOCATIONS\n",
      "################ DATA FROM SCRIPPS: ALERT, NWT, CANADA CO2 DATA #############\n",
      "      0    1         2           3          4           5            6  \\\n",
      "0    Yr   Mn      Date        Date        CO2  seasonally          fit   \n",
      "1                                                adjusted                \n",
      "2                Excel                  [ppm]      [ppm]         [ppm]   \n",
      "3  1985   01     31062   1985.0411     -99.99      -99.99       -99.99   \n",
      "4  1985   02     31093   1985.1260     -99.99      -99.99       -99.99   \n",
      "\n",
      "              7             8                9  \n",
      "0    seasonally           CO2       seasonally  \n",
      "1  adjusted fit        filled  adjusted filled  \n",
      "2         [ppm]         [ppm]            [ppm]  \n",
      "3        -99.99        -99.99           -99.99  \n",
      "4        -99.99        -99.99           -99.99  \n",
      "################ DATA FROM SCRIPPS: LA JOLLA, CA, UNITED STATES CO2 DATA #############\n",
      "      0     1          2            3           4            5             6  \\\n",
      "0    Yr    Mn       Date         Date         CO2   seasonally           fit   \n",
      "1                                                     adjusted                 \n",
      "2                  Excel                    [ppm]       [ppm]          [ppm]   \n",
      "3  1957    01      20835    1957.0411      -99.99       -99.99        -99.99   \n",
      "4  1957    02      20866    1957.1260      -99.99       -99.99        -99.99   \n",
      "\n",
      "               7              8                 9  \n",
      "0     seasonally            CO2        seasonally  \n",
      "1   adjusted fit         filled   adjusted filled  \n",
      "2          [ppm]          [ppm]             [ppm]  \n",
      "3         -99.99         -99.99            -99.99  \n",
      "4         -99.99         -99.99            -99.99  \n",
      "################ DATA FROM SCRIPPS: CHRISTMAS ISLAND, AUSTRALIA CO2 DATA #############\n",
      "      0    1         2           3          4           5            6  \\\n",
      "0    Yr   Mn      Date        Date        C13  seasonally          fit   \n",
      "1                                                adjusted                \n",
      "2                Excel              [per mil]   [per mil]    [per mil]   \n",
      "3  1977   01     28140   1977.0411     -99.99      -99.99       -99.99   \n",
      "4  1977   02     28171   1977.1260     -99.99      -99.99       -99.99   \n",
      "\n",
      "              7            8                9  \n",
      "0    seasonally          C13       seasonally  \n",
      "1  adjusted fit       filled  adjusted filled  \n",
      "2     [per mil]    [per mil]        [per mil]  \n",
      "3        -99.99       -99.99           -99.99  \n",
      "4        -99.99       -99.99           -99.99  \n",
      "################ DATA FROM SCRIPPS: AMERICAN SAMOA CO2 DATA #############\n",
      "      0    1         2           3          4           5            6  \\\n",
      "0    Yr   Mn      Date        Date        CO2  seasonally          fit   \n",
      "1                                                adjusted                \n",
      "2                Excel                  [ppm]      [ppm]         [ppm]   \n",
      "3  1981   01     29601   1981.0411     -99.99      -99.99       -99.99   \n",
      "4  1981   02     29632   1981.1260     -99.99      -99.99       -99.99   \n",
      "\n",
      "              7             8                9  \n",
      "0    seasonally           CO2       seasonally  \n",
      "1  adjusted fit        filled  adjusted filled  \n",
      "2         [ppm]         [ppm]            [ppm]  \n",
      "3        -99.99        -99.99           -99.99  \n",
      "4        -99.99        -99.99           -99.99  \n",
      "################ DATA FROM SCRIPPS: SOUTH POLE, ANTARCTICA CO2 DATA #############\n",
      "      0    1         2           3          4           5            6  \\\n",
      "0    Yr   Mn      Date        Date        CO2  seasonally          fit   \n",
      "1                                                adjusted                \n",
      "2                Excel                  [ppm]      [ppm]         [ppm]   \n",
      "3  1957   01     20835   1957.0411     -99.99      -99.99       -99.99   \n",
      "4  1957   02     20866   1957.1260     -99.99      -99.99       -99.99   \n",
      "\n",
      "              7             8                9  \n",
      "0    seasonally           CO2       seasonally  \n",
      "1  adjusted fit        filled  adjusted filled  \n",
      "2         [ppm]         [ppm]            [ppm]  \n",
      "3        -99.99        -99.99           -99.99  \n",
      "4        -99.99        -99.99           -99.99  \n"
     ]
    }
   ],
   "source": [
    "\n",
    "\n",
    "print(\"####################################################################\")\n",
    "print(\"## FOLLOWING DATA SETS FROM SCRIPPS:STATION DATA FROM WORLDWIDE LOCATIONS\")\n",
    "\n",
    "\n",
    "#Retrieving from Scripps ALERT NWT, CANADA Station Data\n",
    "df_alertNWT = pd.read_csv('http://scrippsco2.ucsd.edu/assets/data/atmospheric/stations/flask_co2/monthly/monthly_flask_co2_alt.csv',\n",
    "                          comment = '\"', delimiter=\",\",header=None)\n",
    "print(\"################ DATA FROM SCRIPPS: ALERT, NWT, CANADA CO2 DATA #############\")\n",
    "print(df_alertNWT.head())\n",
    "\n",
    "\n",
    "#Retrieving from Scripps LA JOLLA, CA, UNITED STATES  Station Data\n",
    "df_lajolla = pd.read_csv('http://scrippsco2.ucsd.edu/assets/data/atmospheric/stations/flask_co2/monthly/monthly_flask_co2_ljo.csv',\n",
    "                          comment = '\"', delimiter=\",\",header=None)\n",
    "print(\"################ DATA FROM SCRIPPS: LA JOLLA, CA, UNITED STATES CO2 DATA #############\")\n",
    "print(df_lajolla.head())\n",
    "\n",
    "\n",
    "#Retrieving from Scripps CHRISTMAS ISLAND, AUSTRALIA  Station Data\n",
    "df_christmas_isl = pd.read_csv('http://scrippsco2.ucsd.edu/assets/data/atmospheric/stations/flask_isotopic/monthly/monthly_flask_c13_chr.csv', \n",
    "                                comment = '\"',delimiter=\",\",header=None)\n",
    "print(\"################ DATA FROM SCRIPPS: CHRISTMAS ISLAND, AUSTRALIA CO2 DATA #############\")\n",
    "print(df_christmas_isl.head())\n",
    "\n",
    "#Retrieving from Scripps AMERICAN SAMOA Station Data\n",
    "df_am_samoa = pd.read_csv('http://scrippsco2.ucsd.edu/assets/data/atmospheric/stations/flask_co2/monthly/monthly_flask_co2_sam.csv', \n",
    "                                comment = '\"',delimiter=\",\",header=None)\n",
    "print(\"################ DATA FROM SCRIPPS: AMERICAN SAMOA CO2 DATA #############\")\n",
    "print(df_am_samoa.head())\n",
    "\n",
    "#Retrieving from Scripps SOUTH POLE Station Data\n",
    "df_southpole = pd.read_csv('http://scrippsco2.ucsd.edu/assets/data/atmospheric/stations/merged_in_situ_and_flask/monthly/monthly_merge_co2_spo.csv',\n",
    "                            comment = '\"',delimiter=\",\",header=None)\n",
    "print(\"################ DATA FROM SCRIPPS: SOUTH POLE, ANTARCTICA CO2 DATA #############\")\n",
    "print(df_southpole.head())"
   ]
  },
  {
   "cell_type": "markdown",
   "metadata": {},
   "source": [
    "## Create a function to do all of the above...."
   ]
  },
  {
   "cell_type": "code",
   "execution_count": 36,
   "metadata": {},
   "outputs": [
    {
     "name": "stdout",
     "output_type": "stream",
     "text": [
      "[0 1 2 3 4 5 6 7 8 9]\n",
      "[0 3 4 'Location']\n",
      "[0 1 2 3 4 5 6 7 8 9]\n",
      "[0 3 4 'Location']\n",
      "[0 1 2 3 4 5 6 7 8 9]\n",
      "[0 3 4 'Location']\n",
      "[0 1 2 3 4 5 6 7 8 9]\n",
      "[0 3 4 'Location']\n",
      "[0 1 2 3 4 5 6 7 8 9]\n",
      "[0 3 4 'Location']\n",
      "      0           3          4   Location\n",
      "0    Yr        Date        CO2  Alert_CAN\n",
      "1                               Alert_CAN\n",
      "2                        [ppm]  Alert_CAN\n",
      "3  1985   1985.0411     -99.99  Alert_CAN\n",
      "4  1985   1985.1260     -99.99  Alert_CAN\n"
     ]
    }
   ],
   "source": [
    "def grab_scripps_co2_data():\n",
    "    links = ['http://scrippsco2.ucsd.edu/assets/data/atmospheric/stations/flask_co2/monthly/monthly_flask_co2_alt.csv',\n",
    "            'http://scrippsco2.ucsd.edu/assets/data/atmospheric/stations/flask_co2/monthly/monthly_flask_co2_ljo.csv', \n",
    "            'http://scrippsco2.ucsd.edu/assets/data/atmospheric/stations/flask_isotopic/monthly/monthly_flask_c13_chr.csv',\n",
    "            'http://scrippsco2.ucsd.edu/assets/data/atmospheric/stations/flask_co2/monthly/monthly_flask_co2_sam.csv',\n",
    "            'http://scrippsco2.ucsd.edu/assets/data/atmospheric/stations/merged_in_situ_and_flask/monthly/monthly_merge_co2_spo.csv']\n",
    "    locations = ['Alert_CAN','LaJolla_USA','ChristmasIsland_AUS','AmericanSamoa_ASM','SouthPole_ANT']\n",
    "    master_df = pd.DataFrame()\n",
    "    count = 0\n",
    "    for link in links: \n",
    "        station_df = pd.read_csv(link,comment = '\"',delimiter=\",\",header=None)\n",
    "        print(station_df.columns.values)\n",
    "        #Add column denoting _this_ substation location \n",
    "        station_df['Location'] = locations[count]\n",
    "        count += 1\n",
    "        \n",
    "        #only get the columns we care about...\n",
    "        station_df = station_df.iloc[:,[0,3,4,10]]\n",
    "        print(station_df.columns.values)\n",
    "        master_df = master_df.append(station_df)\n",
    "    print(master_df.head())\n",
    "grab_scripps_co2_data()"
   ]
  }
 ],
 "metadata": {
  "kernelspec": {
   "display_name": "Python 3",
   "language": "python",
   "name": "python3"
  },
  "language_info": {
   "codemirror_mode": {
    "name": "ipython",
    "version": 3
   },
   "file_extension": ".py",
   "mimetype": "text/x-python",
   "name": "python",
   "nbconvert_exporter": "python",
   "pygments_lexer": "ipython3",
   "version": "3.6.4"
  }
 },
 "nbformat": 4,
 "nbformat_minor": 2
}
